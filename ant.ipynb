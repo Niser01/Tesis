{
 "cells": [
  {
   "cell_type": "code",
   "execution_count": null,
   "metadata": {},
   "outputs": [],
   "source": [
    "import random\n",
    "import numpy as np\n",
    "\n",
    "\n",
    "#parametros del problema\n",
    "num_camps = 6  # Número de campamentos del problema\n",
    "num_hormigas = 50  # Número de hormigas en la colonia\n",
    "num_generaciones = 100  # Número de generaciones en el algoritmo genético\n",
    "factor_evaporacion = 0.5  # Tasa de evaporación de feromonas\n",
    "#cant_inicial_feromona = 1.0  # Nivel inicial de feromonas en las aristas\n",
    "factor_cruce = 0.7  # Tasa de cruza genética\n",
    "factor_mutacion = 0.1  # Tasa de mutación genética\n",
    "factor_distancia = 0.6 # peso que recibe el factor distancia\n",
    "factor_inclinacion = 0.1 # peso que recibe el factor inclinación\n",
    "factor_clima = 0 # peso que recibe el clima\n",
    "\n",
    "grafo_distancias = np.random.uniform(low=1.0, high=300.0, size=(num_camps, num_camps))\n",
    "np.fill_diagonal(grafo_distancias, 0) \n",
    "\n",
    "tipos_de_terreno = [[\"Pavimentado\",1], [\"Barro\",0.2], [\"Rocas\",0.6], [\"Matorral\",0.3]]\n",
    "grafo_terreno = [[None for _ in range(num_camps)] for _ in range(num_camps)]\n",
    "for i in range(num_camps):\n",
    "    for j in  range(num_camps):\n",
    "        terreno = random.choice(tipos_de_terreno)\n",
    "        grafo_terreno[i][j] = terreno\n",
    "\n",
    "grafo_inclinaciones = np.random.uniform(low=-60, high=60, size=(num_camps, num_camps))\n",
    "np.fill_diagonal(grafo_inclinaciones, 0) \n",
    "\n",
    "\n",
    "print(grafo_terreno)        \n",
    "print(grafo_distancias)\n",
    "print(grafo_inclinaciones)\n",
    "\n",
    "# Inicialización de feromonas en las aristas del grafo\n",
    "pheromones = np.full((num_camps, num_camps), 0)\n",
    "\n",
    "print(pheromones)"
   ]
  },
  {
   "cell_type": "code",
   "execution_count": null,
   "metadata": {},
   "outputs": [],
   "source": [
    "def generate_ant_solution():\n",
    "    # Genera una solución candidata (recorrido de ciudades) para una hormiga\n",
    "    return random.sample(range(num_camps), num_camps)"
   ]
  },
  {
   "cell_type": "code",
   "execution_count": null,
   "metadata": {},
   "outputs": [],
   "source": [
    "def evaluate_solution(solution):\n",
    "    # Evalúa la longitud total de un recorrido de ciudades (solución)\n",
    "    total_distance = sum(graph[solution[i-1], solution[i]] for i in range(num_camps))\n",
    "    return total_distance"
   ]
  },
  {
   "cell_type": "code",
   "execution_count": null,
   "metadata": {},
   "outputs": [],
   "source": [
    "\n",
    "def update_pheromones(best_solution):\n",
    "    # Actualiza las feromonas en función de la mejor solución encontrada\n",
    "    pheromones *= (1 - evaporation_rate)  # Evaporación de feromonas\n",
    "    for i in range(num_camps):\n",
    "        pheromones[best_solution[i-1], best_solution[i]] += 1.0 / evaluate_solution(best_solution)\n"
   ]
  },
  {
   "cell_type": "code",
   "execution_count": 1,
   "metadata": {},
   "outputs": [
    {
     "name": "stdout",
     "output_type": "stream",
     "text": [
      "[[['Pavimentado', 1], ['Barro', 0.2], ['Matorral', 0.3], ['Rocas', 0.6], ['Barro', 0.2], ['Rocas', 0.6]], [['Matorral', 0.3], ['Matorral', 0.3], ['Barro', 0.2], ['Matorral', 0.3], ['Matorral', 0.3], ['Pavimentado', 1]], [['Barro', 0.2], ['Matorral', 0.3], ['Rocas', 0.6], ['Matorral', 0.3], ['Barro', 0.2], ['Pavimentado', 1]], [['Rocas', 0.6], ['Matorral', 0.3], ['Matorral', 0.3], ['Barro', 0.2], ['Matorral', 0.3], ['Pavimentado', 1]], [['Matorral', 0.3], ['Pavimentado', 1], ['Pavimentado', 1], ['Barro', 0.2], ['Rocas', 0.6], ['Barro', 0.2]], [['Pavimentado', 1], ['Pavimentado', 1], ['Pavimentado', 1], ['Rocas', 0.6], ['Matorral', 0.3], ['Pavimentado', 1]]]\n",
      "[[  0.         168.36976031 153.59828578  55.11168117 243.9182718\n",
      "  123.60064606]\n",
      " [137.48288854   0.         162.65027148  52.11809549  82.29442045\n",
      "  131.07000631]\n",
      " [240.0740334   28.4657286    0.         134.40666261 190.18685452\n",
      "  122.29470785]\n",
      " [188.95700882 113.89598478 262.67644141   0.         184.70683174\n",
      "   14.1375046 ]\n",
      " [287.38857773  16.99611002  39.98111949 272.44253152   0.\n",
      "  217.8810571 ]\n",
      " [ 17.28349186 133.06080019 148.70586836 264.70085951  72.70249349\n",
      "    0.        ]]\n",
      "[[  0.         -27.75658022  42.69699195  39.55885579  35.42817531\n",
      "  -28.81109697]\n",
      " [-47.40597327   0.         -23.82482665 -54.46426487  20.38944559\n",
      "   -8.52064685]\n",
      " [-26.34656422 -22.57364095   0.         -22.02813863 -28.76079323\n",
      "   -1.56846521]\n",
      " [ 23.81420118 -25.80668308  34.27687991   0.         -39.68790864\n",
      "  -36.37095728]\n",
      " [-49.75978362   6.771055   -34.72764743  50.4560532    0.\n",
      "  -25.92815188]\n",
      " [ 51.5037023   10.97008548 -22.00368462  -6.64716893 -49.49071795\n",
      "    0.        ]]\n",
      "[[0 0 0 0 0 0]\n",
      " [0 0 0 0 0 0]\n",
      " [0 0 0 0 0 0]\n",
      " [0 0 0 0 0 0]\n",
      " [0 0 0 0 0 0]\n",
      " [0 0 0 0 0 0]]\n"
     ]
    },
    {
     "ename": "NameError",
     "evalue": "name 'num_generations' is not defined",
     "output_type": "error",
     "traceback": [
      "\u001b[1;31m---------------------------------------------------------------------------\u001b[0m",
      "\u001b[1;31mNameError\u001b[0m                                 Traceback (most recent call last)",
      "Cell \u001b[1;32mIn[1], line 59\u001b[0m\n\u001b[0;32m     56\u001b[0m best_global_solution \u001b[38;5;241m=\u001b[39m \u001b[38;5;28;01mNone\u001b[39;00m\n\u001b[0;32m     57\u001b[0m best_global_distance \u001b[38;5;241m=\u001b[39m \u001b[38;5;28mfloat\u001b[39m(\u001b[38;5;124m'\u001b[39m\u001b[38;5;124minf\u001b[39m\u001b[38;5;124m'\u001b[39m)\n\u001b[1;32m---> 59\u001b[0m \u001b[38;5;28;01mfor\u001b[39;00m generation \u001b[38;5;129;01min\u001b[39;00m \u001b[38;5;28mrange\u001b[39m(\u001b[43mnum_generations\u001b[49m):\n\u001b[0;32m     60\u001b[0m     \u001b[38;5;66;03m# Generar soluciones para cada hormiga y evaluarlas\u001b[39;00m\n\u001b[0;32m     61\u001b[0m     solutions \u001b[38;5;241m=\u001b[39m [generate_ant_solution() \u001b[38;5;28;01mfor\u001b[39;00m _ \u001b[38;5;129;01min\u001b[39;00m \u001b[38;5;28mrange\u001b[39m(num_ants)]\n\u001b[0;32m     62\u001b[0m     distances \u001b[38;5;241m=\u001b[39m [evaluate_solution(sol) \u001b[38;5;28;01mfor\u001b[39;00m sol \u001b[38;5;129;01min\u001b[39;00m solutions]\n",
      "\u001b[1;31mNameError\u001b[0m: name 'num_generations' is not defined"
     ]
    }
   ],
   "source": [
    "\n",
    "best_global_solution = None\n",
    "best_global_distance = float('inf')\n",
    "\n",
    "for generation in range(num_generations):\n",
    "    # Generar soluciones para cada hormiga y evaluarlas\n",
    "    solutions = [generate_ant_solution() for _ in range(num_ants)]\n",
    "    distances = [evaluate_solution(sol) for sol in solutions]\n",
    "    \n",
    "    # Actualizar feromonas y encontrar la mejor solución de la generación\n",
    "    best_solution_index = np.argmin(distances)\n",
    "    best_solution = solutions[best_solution_index]\n",
    "    if distances[best_solution_index] < best_global_distance:\n",
    "        best_global_solution = best_solution\n",
    "        best_global_distance = distances[best_solution_index]\n",
    "    update_pheromones(best_solution)\n",
    "\n",
    "    # Aplicar operadores genéticos a una parte de la población de hormigas\n",
    "    selected_indices = random.sample(range(num_ants), int(crossover_rate * num_ants))\n",
    "    selected_solutions = [solutions[idx] for idx in selected_indices]\n",
    "    # Aplicar cruza y mutación a las soluciones seleccionadas\n",
    "    # (Aquí debes implementar tus operadores de cruza y mutación según el esquema genético que elijas)\n",
    "\n",
    "print(\"Mejor solución encontrada:\", best_global_solution)\n",
    "print(\"Distancia de la mejor solución:\", best_global_distance)\n"
   ]
  }
 ],
 "metadata": {
  "kernelspec": {
   "display_name": "Python 3",
   "language": "python",
   "name": "python3"
  },
  "language_info": {
   "codemirror_mode": {
    "name": "ipython",
    "version": 3
   },
   "file_extension": ".py",
   "mimetype": "text/x-python",
   "name": "python",
   "nbconvert_exporter": "python",
   "pygments_lexer": "ipython3",
   "version": "3.11.0"
  }
 },
 "nbformat": 4,
 "nbformat_minor": 2
}
